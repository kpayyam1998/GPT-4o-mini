{
 "cells": [
  {
   "cell_type": "code",
   "execution_count": 5,
   "metadata": {},
   "outputs": [],
   "source": [
    "import os\n",
    "from flask import Flask,jsonify,request\n",
    "from openai import OpenAI\n",
    "from dotenv import load_dotenv\n",
    "key=os.getenv(\"OPENAI_API_KEY\")\n",
    "client = OpenAI(api_key=key)"
   ]
  },
  {
   "cell_type": "code",
   "execution_count": 6,
   "metadata": {},
   "outputs": [],
   "source": [
    "prompt=\"how to speak english\"\n",
    "completion = client.chat.completions.create(\n",
    "                model=\"gpt-4o-mini\",\n",
    "                messages=[\n",
    "                    {\"role\": \"system\",\"content\": \"you are a helpfull assistent\"},\n",
    "                    {\"role\": \"user\", \"content\": prompt}\n",
    "                ]\n",
    "            )\n",
    "response=completion.choices[0].message"
   ]
  },
  {
   "cell_type": "code",
   "execution_count": 7,
   "metadata": {},
   "outputs": [
    {
     "data": {
      "text/plain": [
       "\"Learning to speak English involves several steps. Here are some effective strategies to help you improve your speaking skills:\\n\\n1. **Build your vocabulary**: Familiarize yourself with common words and phrases. Use flashcards, apps, or vocabulary lists to learn new words every day.\\n\\n2. **Practice speaking regularly**: Find a language partner, join a conversation club, or use language exchange apps. The more you practice speaking, the more comfortable you'll become.\\n\\n3. **Listen and imitate**: Listen to native speakers through podcasts, movies, or TV shows. Try to mimic their pronunciation, intonation, and rhythm.\\n\\n4. **Take a language course**: Consider enrolling in English classes where you can receive structured guidance and feedback from a teacher.\\n\\n5. **Use language learning apps**: Apps like Duolingo, Babbel, or Tandem offer interactive ways to practice English speaking.\\n\\n6. **Think in English**: Try to avoid translating from your native language. Instead, practice thinking directly in English to improve fluency.\\n\\n7. **Read aloud**: Reading books, articles, or scripts out loud can help improve your pronunciation and build confidence.\\n\\n8. **Record yourself**: Recording your speech can help you identify areas for improvement, such as pronunciation and grammar.\\n\\n9. **Expand your knowledge of grammar**: Understanding the basics of English grammar will help you construct sentences correctly.\\n\\n10. **Be patient and persistent**: Language learning takes time. Celebrate your progress and don't be discouraged by mistakes—they're an essential part of the learning process.\\n\\nRemember, consistent practice and engagement are key to becoming fluent in speaking English. Good luck!\""
      ]
     },
     "execution_count": 7,
     "metadata": {},
     "output_type": "execute_result"
    }
   ],
   "source": [
    "response.content"
   ]
  },
  {
   "cell_type": "code",
   "execution_count": null,
   "metadata": {},
   "outputs": [],
   "source": []
  }
 ],
 "metadata": {
  "kernelspec": {
   "display_name": "Python 3",
   "language": "python",
   "name": "python3"
  },
  "language_info": {
   "codemirror_mode": {
    "name": "ipython",
    "version": 3
   },
   "file_extension": ".py",
   "mimetype": "text/x-python",
   "name": "python",
   "nbconvert_exporter": "python",
   "pygments_lexer": "ipython3",
   "version": "3.12.3"
  }
 },
 "nbformat": 4,
 "nbformat_minor": 2
}
